{
  "cells": [
    {
      "metadata": {
        "trusted": true,
        "_uuid": "2160faacdc14754f0bd55b9c047fa89b33185ba0"
      },
      "cell_type": "code",
      "source": "# Import the necessary libraries\nimport numpy as np\nimport pandas as pd\nimport os\nimport time\nimport warnings\nimport os\nfrom six.moves import urllib\nimport matplotlib\nimport matplotlib.pyplot as plt\nimport seaborn as sns\nwarnings.filterwarnings('ignore')\n%matplotlib inline\nplt.style.use('seaborn')\nfrom scipy.stats import norm, skew",
      "execution_count": null,
      "outputs": []
    },
    {
      "metadata": {
        "trusted": true,
        "_uuid": "28ce0310ba5fb9f3de773ca3b19568dc6cb84059"
      },
      "cell_type": "code",
      "source": "# Scalers\nfrom sklearn.preprocessing import MinMaxScaler\nfrom sklearn.utils import shuffle\nfrom sklearn.pipeline import Pipeline\nfrom sklearn.pipeline import FeatureUnion\n\n# Models\n\nfrom sklearn.linear_model import Lasso, ElasticNet\nfrom sklearn.metrics import mean_squared_log_error,mean_squared_error, r2_score,mean_absolute_error\n\n#regression\nfrom sklearn.linear_model import LinearRegression,Ridge,LassoCV,RidgeCV\nfrom sklearn.ensemble import RandomForestRegressor,BaggingRegressor,GradientBoostingRegressor,AdaBoostRegressor\nfrom sklearn.svm import SVR\nfrom sklearn.neighbors import KNeighborsRegressor\n\nfrom sklearn.model_selection import train_test_split #training and testing data split\nfrom sklearn import metrics #accuracy measure\nfrom sklearn.metrics import confusion_matrix #for confusion matrix\nfrom scipy.stats import reciprocal, uniform\n\n# Cross-validation\nfrom sklearn.model_selection import KFold #for K-fold cross validation\nfrom sklearn.model_selection import cross_val_score #score evaluation\nfrom sklearn.model_selection import cross_val_predict #prediction\nfrom sklearn.model_selection import cross_validate\n\nimport xgboost as xgb\nfrom xgboost import XGBRegressor\nfrom lightgbm import LGBMRegressor\n\n# GridSearchCV\nfrom sklearn.model_selection import GridSearchCV\nfrom sklearn.model_selection import RandomizedSearchCV\n\n#Common data processors\nfrom sklearn.preprocessing import OneHotEncoder, LabelEncoder\nfrom sklearn import feature_selection\nfrom sklearn import model_selection\nfrom sklearn import metrics\nfrom sklearn.base import BaseEstimator, TransformerMixin\nfrom sklearn.utils import check_array\nfrom scipy import sparse",
      "execution_count": null,
      "outputs": []
    },
    {
      "metadata": {
        "trusted": true,
        "_uuid": "28de2011c12bfff61042078c0a5289c29936aa21"
      },
      "cell_type": "code",
      "source": "train = pd.read_csv('../input/train.csv')\ntest = pd.read_csv('../input/test.csv')",
      "execution_count": null,
      "outputs": []
    },
    {
      "metadata": {
        "trusted": true,
        "_uuid": "511f2a090bffad725bfca6ee35643f151595c57a"
      },
      "cell_type": "code",
      "source": "train.shape",
      "execution_count": null,
      "outputs": []
    },
    {
      "metadata": {
        "trusted": true,
        "_uuid": "3494611c1ed8cecfa5867f3f1bac24d133617d6a"
      },
      "cell_type": "code",
      "source": "test.shape",
      "execution_count": null,
      "outputs": []
    },
    {
      "metadata": {
        "trusted": true,
        "_uuid": "f64c08e2732958971fd4a5e0cd8f7303577d729b"
      },
      "cell_type": "code",
      "source": "#Drop the id column\n\ntrain.drop(\"Id\", axis = 1, inplace = True)\ntest.drop(\"Id\", axis = 1, inplace = True)",
      "execution_count": null,
      "outputs": []
    },
    {
      "metadata": {
        "trusted": true,
        "_uuid": "38424661b7e9c15fe2094d79dc1ecab122c3eeb7"
      },
      "cell_type": "code",
      "source": "# It seems that the price of recent-built houses are higher\n\nplt.figure(figsize=(15,8))\nsns.boxplot(train.YearBuilt, train.SalePrice)\n\n# From the graph we can surely see plenty of outliers.",
      "execution_count": null,
      "outputs": []
    },
    {
      "metadata": {
        "trusted": true,
        "_uuid": "b9fa23cf0520f2dd6e5f041bd36355dabdb05000"
      },
      "cell_type": "code",
      "source": "plt.figure(figsize=(12,6))\nplt.scatter(x=train.GrLivArea, y=train.SalePrice)\nplt.xlabel(\"GrLivArea\", fontsize=13)\nplt.ylabel(\"SalePrice\", fontsize=13)\nplt.ylim(0,800000)",
      "execution_count": null,
      "outputs": []
    },
    {
      "metadata": {
        "trusted": true,
        "_uuid": "ea5ea6fc24945d7d2637a34afcd4e7d711750f53"
      },
      "cell_type": "code",
      "source": "plt.figure(figsize=(12,6))\nplt.scatter(x=train.OverallQual, y=train.SalePrice)\nplt.xlabel(\"GrLivArea\", fontsize=13)\nplt.ylabel(\"SalePrice\", fontsize=13)\nplt.ylim(0,800000)",
      "execution_count": null,
      "outputs": []
    },
    {
      "metadata": {
        "_uuid": "0a0d54b997522206d78aeca0162f390e6c77da24"
      },
      "cell_type": "markdown",
      "source": "As Suggested by many participants in Kaggle that the outliers shall be removed"
    },
    {
      "metadata": {
        "trusted": true,
        "_uuid": "69fbc9afa32a40f56493afe1c381778e36342d1b"
      },
      "cell_type": "code",
      "source": "train.drop(train[(train['GrLivArea']>=4500) & (train['SalePrice']<300000)].index, inplace=True)\ntrain.reset_index(drop=True, inplace=True)",
      "execution_count": null,
      "outputs": []
    },
    {
      "metadata": {
        "trusted": true,
        "_uuid": "f5f12253d68665d4aa9977f762c8eb0f5eb8259b"
      },
      "cell_type": "code",
      "source": "# Graphs after removing outliers\nplt.figure(figsize=(12,6))\nplt.scatter(x=train.GrLivArea, y=train.SalePrice)\nplt.xlabel(\"GrLivArea\", fontsize=13)\nplt.ylabel(\"SalePrice\", fontsize=13)\nplt.ylim(0,800000)",
      "execution_count": null,
      "outputs": []
    },
    {
      "metadata": {
        "trusted": true,
        "_uuid": "a7e4fcbdaa87837b75f224ca38b512d738cf80e4"
      },
      "cell_type": "code",
      "source": "train.shape",
      "execution_count": null,
      "outputs": []
    },
    {
      "metadata": {
        "trusted": true,
        "_uuid": "437420d64c6ea6260399002fd3e47c4bae1d9e2a"
      },
      "cell_type": "code",
      "source": "train.info()",
      "execution_count": null,
      "outputs": []
    },
    {
      "metadata": {
        "trusted": true,
        "_uuid": "47ec6969797926990b9a0d4531a7528486563130"
      },
      "cell_type": "code",
      "source": "train.describe()",
      "execution_count": null,
      "outputs": []
    },
    {
      "metadata": {
        "trusted": true,
        "_uuid": "3faba1e18825e860419fdd9722f309c22a34ca8a"
      },
      "cell_type": "code",
      "source": "# Checking if the log is required for the housing sales price\nplt.subplot(1, 2, 1)\nsns.distplot(train.SalePrice, kde=True, fit = norm)",
      "execution_count": null,
      "outputs": []
    },
    {
      "metadata": {
        "trusted": true,
        "_uuid": "a773ebc0ca31fca41340ba85775a67d54532b919"
      },
      "cell_type": "code",
      "source": "#Plot is right skewed, so we need to normalize this distribution\n\nplt.subplot(1, 2, 2)\nsns.distplot(np.log1p(train.SalePrice + 1), kde=True, fit = norm)\nplt.xlabel('Log SalePrice')",
      "execution_count": null,
      "outputs": []
    },
    {
      "metadata": {
        "trusted": true,
        "_uuid": "70e50ca2923d4f5757dd50001db9e8322cf8908d"
      },
      "cell_type": "code",
      "source": "#Applying log to house price\ntrain.SalePrice = np.log1p(train.SalePrice)",
      "execution_count": null,
      "outputs": []
    },
    {
      "metadata": {
        "trusted": true,
        "_uuid": "31eada80efd300dab1af1a08dd68267c41f09953"
      },
      "cell_type": "code",
      "source": "train_y = train.SalePrice.reset_index(drop=True)\ntrain_x = train.drop(['SalePrice'], axis=1)\ntest_x = test",
      "execution_count": null,
      "outputs": []
    },
    {
      "metadata": {
        "trusted": true,
        "_uuid": "f49ada491a602161d4181269da0f7990907201a3"
      },
      "cell_type": "code",
      "source": "train_x.shape",
      "execution_count": null,
      "outputs": []
    },
    {
      "metadata": {
        "trusted": true,
        "_uuid": "97d0cdc6742ba6f80db8e0025ca5b511834ac91c"
      },
      "cell_type": "code",
      "source": "test_x.shape",
      "execution_count": null,
      "outputs": []
    },
    {
      "metadata": {
        "trusted": true,
        "_uuid": "058c65cd2de7b0c18898548cfb9cd72e0443e48e"
      },
      "cell_type": "code",
      "source": "total_features = pd.concat([train_x, test_x]).reset_index(drop=True)\ntotal_features.shape",
      "execution_count": null,
      "outputs": []
    },
    {
      "metadata": {
        "_uuid": "57b7c5b7e9aa922debfad3057220eb93507ac554"
      },
      "cell_type": "markdown",
      "source": "Determine the missing values"
    },
    {
      "metadata": {
        "scrolled": true,
        "trusted": true,
        "_uuid": "e4d3f4adf60c7ffeb6c6d061e8519d3ed1aabc3f"
      },
      "cell_type": "code",
      "source": "nulls = np.sum(total_features.isnull())\nnullcols = nulls.loc[(nulls != 0)]\ndtypes = total_features.dtypes\ndtypes2 = dtypes.loc[(nulls != 0)]\ninfo = pd.concat([nullcols, dtypes2], axis=1).sort_values(by=0, ascending=False)\nprint(info)\nprint(\"There are\", len(nullcols), \"columns with missing values\")",
      "execution_count": null,
      "outputs": []
    },
    {
      "metadata": {
        "_uuid": "1beeff7675edd66810753a3c36a6fac6fc4dfd17"
      },
      "cell_type": "markdown",
      "source": "Impute the Missing Values"
    },
    {
      "metadata": {
        "trusted": true,
        "_uuid": "aa91ef2cef90491b9e32a941ed6a846672934df9"
      },
      "cell_type": "code",
      "source": "total_features['Functional'] = total_features['Functional'].fillna('Typ')\ntotal_features['Electrical'] = total_features['Electrical'].fillna(\"SBrkr\")\ntotal_features['KitchenQual'] = total_features['KitchenQual'].fillna(\"TA\")\n\ntotal_features['Exterior1st'] = total_features['Exterior1st'].fillna(total_features['Exterior1st'].mode()[0])\ntotal_features['Exterior2nd'] = total_features['Exterior2nd'].fillna(total_features['Exterior2nd'].mode()[0])\n\ntotal_features['SaleType'] = total_features['SaleType'].fillna(total_features['SaleType'].mode()[0])",
      "execution_count": null,
      "outputs": []
    },
    {
      "metadata": {
        "_uuid": "35417f6926e0ba3cec0df6d85daeab9c580d4b84"
      },
      "cell_type": "markdown",
      "source": "Check what value to impute, when the variable value is missing."
    },
    {
      "metadata": {
        "scrolled": true,
        "trusted": true,
        "_uuid": "8edc7a44eb4598790a757fc0b525af79d3f3ca44"
      },
      "cell_type": "code",
      "source": "pd.set_option('max_columns', None)\ntotal_features[total_features['PoolArea'] > 0 & total_features['PoolQC'].isnull()]",
      "execution_count": null,
      "outputs": []
    },
    {
      "metadata": {
        "trusted": true,
        "_uuid": "755f2261b7a3238ab3aa1f77464b751d0ffa6b24"
      },
      "cell_type": "code",
      "source": "total_features.loc[2418, 'PoolQC'] = 'Fa'\ntotal_features.loc[2501, 'PoolQC'] = 'Gd'\ntotal_features.loc[2597, 'PoolQC'] = 'Fa'",
      "execution_count": null,
      "outputs": []
    },
    {
      "metadata": {
        "trusted": true,
        "_uuid": "57bef5d9d38aac041d6bd435bc401a19ee314494"
      },
      "cell_type": "code",
      "source": "pd.set_option('max_columns', None)\ntotal_features[(total_features['GarageType'] == 'Detchd') & total_features['GarageYrBlt'].isnull()]",
      "execution_count": null,
      "outputs": []
    },
    {
      "metadata": {
        "trusted": true,
        "_uuid": "61342f52e82689ace237f7c82739775b36da0b72"
      },
      "cell_type": "code",
      "source": "total_features.loc[2124, 'GarageYrBlt'] = total_features['GarageYrBlt'].median()\ntotal_features.loc[2574, 'GarageYrBlt'] = total_features['GarageYrBlt'].median()\n\ntotal_features.loc[2124, 'GarageFinish'] = total_features['GarageFinish'].mode()[0]\ntotal_features.loc[2574, 'GarageFinish'] = total_features['GarageFinish'].mode()[0]\n\ntotal_features.loc[2574, 'GarageCars'] = total_features['GarageCars'].median()\n\ntotal_features.loc[2124, 'GarageArea'] = total_features['GarageArea'].median()\ntotal_features.loc[2574, 'GarageArea'] = total_features['GarageArea'].median()\n\ntotal_features.loc[2124, 'GarageQual'] = total_features['GarageQual'].mode()[0]\ntotal_features.loc[2574, 'GarageQual'] = total_features['GarageQual'].mode()[0]\n\ntotal_features.loc[2124, 'GarageCond'] = total_features['GarageCond'].mode()[0]\ntotal_features.loc[2574, 'GarageCond'] = total_features['GarageCond'].mode()[0]",
      "execution_count": null,
      "outputs": []
    },
    {
      "metadata": {
        "trusted": true,
        "_uuid": "0592fe9615337299e4d5d0e06da798c7a302b3d3"
      },
      "cell_type": "code",
      "source": "# Basement Variables with NA, are now filled\n\ntotal_features.loc[332, 'BsmtFinType2'] = 'ALQ' #since smaller than SF1\ntotal_features.loc[947, 'BsmtExposure'] = 'No' \ntotal_features.loc[1485, 'BsmtExposure'] = 'No'\ntotal_features.loc[2038, 'BsmtCond'] = 'TA'\ntotal_features.loc[2183, 'BsmtCond'] = 'TA'\ntotal_features.loc[2215, 'BsmtQual'] = 'Po' #v small basement so let's do Poor.\ntotal_features.loc[2216, 'BsmtQual'] = 'Fa' #similar but a bit bigger.\ntotal_features.loc[2346, 'BsmtExposure'] = 'No' #unfinished bsmt so prob not.\ntotal_features.loc[2522, 'BsmtCond'] = 'Gd' #cause ALQ for bsmtfintype1",
      "execution_count": null,
      "outputs": []
    },
    {
      "metadata": {
        "trusted": true,
        "_uuid": "6ff96d21d8f95eb9a4fbed67ab4855ed230e929a"
      },
      "cell_type": "code",
      "source": "subclass_group = total_features.groupby('MSSubClass')\nZoning_modes = subclass_group['MSZoning'].apply(lambda x : x.mode()[0])\ntotal_features['MSZoning'] = total_features.groupby('MSSubClass')['MSZoning'].transform(lambda x: x.fillna(x.mode()[0]))",
      "execution_count": null,
      "outputs": []
    },
    {
      "metadata": {
        "trusted": true,
        "_uuid": "1a85ed5d87d187488eec55886649a914bb2e3816"
      },
      "cell_type": "code",
      "source": "neighborhood_group = total_features.groupby('Neighborhood')\nlot_medians = neighborhood_group['LotFrontage'].median()\ntotal_features['LotFrontage'] = total_features.groupby('Neighborhood')['LotFrontage'].transform(lambda x: x.fillna(x.median()))",
      "execution_count": null,
      "outputs": []
    },
    {
      "metadata": {
        "scrolled": true,
        "trusted": true,
        "_uuid": "c17447042e3359de4e739d5e2cd7d42cd8e33397"
      },
      "cell_type": "code",
      "source": "#Filling in the rest of the NA's\n\nnumeric_dtypes = ['int16', 'int32', 'int64', 'float16', 'float32', 'float64']\nnumerics = []\nfor i in total_features.columns:\n    if total_features[i].dtype in numeric_dtypes: \n        numerics.append(i)\n        \ntotal_features.update(total_features[numerics].fillna(0))\n\n# remaining columns \n\ncolumns = [\"PoolQC\" , \"MiscFeature\", \"Alley\", \"Fence\", \"FireplaceQu\", \"GarageQual\", \n         \"GarageCond\", \"GarageFinish\", \"GarageYrBlt\", \"GarageType\", \"BsmtExposure\", \n         \"BsmtCond\", \"BsmtQual\", \"BsmtFinType2\", \"BsmtFinType1\", \"MasVnrType\"]\n\nfor col in columns:\n    total_features.update(total_features[col].fillna(\"None\", inplace=True))\n\n\nnulls = np.sum(total_features.isnull())\nnullcols = nulls.loc[(nulls != 0)]\ndtypes = total_features.dtypes\ndtypes2 = dtypes.loc[(nulls != 0)]\ninfo = pd.concat([nullcols, dtypes2], axis=1).sort_values(by=0, ascending=False)\nprint(info)\nprint(\"There are\", len(nullcols), \"columns with missing values\")",
      "execution_count": null,
      "outputs": []
    },
    {
      "metadata": {
        "trusted": true,
        "_uuid": "0ac41ce6ba5a338863ed81d96afca47ba232b0bf"
      },
      "cell_type": "code",
      "source": "total_features = total_features.drop(['Utilities','Street'], axis=1)",
      "execution_count": null,
      "outputs": []
    },
    {
      "metadata": {
        "trusted": true,
        "_uuid": "bd1c261ea8364e9dea9abb06cae432d32b45bfe0"
      },
      "cell_type": "code",
      "source": "#FEATURE ENGINEERING\n\ntotal_features['Total_sqr_footage'] = (total_features['BsmtFinSF1'] + total_features['BsmtFinSF2'] +\n                                 total_features['1stFlrSF'] + total_features['2ndFlrSF'])\n\ntotal_features['Total_Bathrooms'] = (total_features['FullBath'] + (0.5*total_features['HalfBath']) + \n                               total_features['BsmtFullBath'] + (0.5*total_features['BsmtHalfBath']))\n\ntotal_features['Total_porch_sf'] = (total_features['OpenPorchSF'] + total_features['3SsnPorch'] +\n                              total_features['EnclosedPorch'] + total_features['ScreenPorch'] +\n                             total_features['WoodDeckSF'])\n\n\n#simplified features\ntotal_features['haspool'] = total_features['PoolArea'].apply(lambda x: 1 if x > 0 else 0)\ntotal_features['has2ndfloor'] = total_features['2ndFlrSF'].apply(lambda x: 1 if x > 0 else 0)\ntotal_features['hasgarage'] = total_features['GarageArea'].apply(lambda x: 1 if x > 0 else 0)\ntotal_features['hasbsmt'] = total_features['TotalBsmtSF'].apply(lambda x: 1 if x > 0 else 0)\ntotal_features['hasfireplace'] = total_features['Fireplaces'].apply(lambda x: 1 if x > 0 else 0)",
      "execution_count": null,
      "outputs": []
    },
    {
      "metadata": {
        "trusted": true,
        "_uuid": "2d18a4e28b7e30bc5516a93bf7610dd66d1c6f70"
      },
      "cell_type": "code",
      "source": "total_features.shape",
      "execution_count": null,
      "outputs": []
    },
    {
      "metadata": {
        "trusted": true,
        "_uuid": "f832e57ae9e0896af0410dc684bc4f90ee1eaa65"
      },
      "cell_type": "code",
      "source": "final_features = pd.get_dummies(total_features).reset_index(drop=True)\nfinal_features.shape",
      "execution_count": null,
      "outputs": []
    },
    {
      "metadata": {
        "trusted": true,
        "_uuid": "6a679daf329035ea54ddec55fbc7a8006b81d130"
      },
      "cell_type": "code",
      "source": "final_train_x = final_features.iloc[:len(train_y),:]\nfinal_test_x = final_features.iloc[len(final_train_x):,:] ",
      "execution_count": null,
      "outputs": []
    },
    {
      "metadata": {
        "trusted": true,
        "_uuid": "684e2fe09aed525800f3928df6a5aba2117cfd5f"
      },
      "cell_type": "code",
      "source": "final_train_x.shape",
      "execution_count": null,
      "outputs": []
    },
    {
      "metadata": {
        "trusted": true,
        "_uuid": "7510599f59cf14386045d718b262918f568d10ea"
      },
      "cell_type": "code",
      "source": "final_test_x.shape",
      "execution_count": null,
      "outputs": []
    },
    {
      "metadata": {
        "_uuid": "6473de2b000473d50c3616bb8d474b9ac390be78"
      },
      "cell_type": "markdown",
      "source": "Apply TSNE "
    },
    {
      "metadata": {
        "trusted": true,
        "_uuid": "4bd95a62f7fbd4d863ee0d8f0da0185a51f9dc67"
      },
      "cell_type": "code",
      "source": "#Now let's use t-SNE to reduce dimensionality down to 2D so we can plot the dataset:\n\nfrom sklearn.manifold import TSNE\n\ntsne = TSNE(n_components=2, random_state=42, verbose = 2)\nTSNE_X = tsne.fit_transform(final_train_x)\nTSNE_X_test = tsne.fit_transform(final_test_x)",
      "execution_count": null,
      "outputs": []
    },
    {
      "metadata": {
        "trusted": true,
        "_uuid": "3b8cd9781ff367b62418e452b95703e3d7f8ff63"
      },
      "cell_type": "code",
      "source": "plt.figure(figsize=(13,10))\nplt.scatter(TSNE_X[:, 0], TSNE_X[:, 1], c=train_y, cmap=\"jet\")\nplt.axis('off')\nplt.colorbar()\nplt.show()",
      "execution_count": null,
      "outputs": []
    },
    {
      "metadata": {
        "_uuid": "f3ee6010f767038d105da10df8638413cadaf819"
      },
      "cell_type": "markdown",
      "source": "PCA - Not better than TSNE"
    },
    {
      "metadata": {
        "trusted": true,
        "_uuid": "a0488512720ded498f2f4f5b6a7f055c1eeae29b"
      },
      "cell_type": "code",
      "source": "from sklearn.decomposition import PCA\n\nPCA_train_x = PCA(n_components=300, random_state=42).fit_transform(final_train_x)\nplt.scatter(PCA_train_x[:, 0], PCA_train_x[:, 1], c=train_y, cmap=\"jet\")\nplt.axis('off')\nplt.colorbar()\nplt.show()",
      "execution_count": null,
      "outputs": []
    },
    {
      "metadata": {
        "_uuid": "f2903d14f19aef7a56ade87e034c9038279d2224"
      },
      "cell_type": "markdown",
      "source": "Kernel PCA"
    },
    {
      "metadata": {
        "trusted": true,
        "_uuid": "603dc3036260e49d855fcbaf4eefa5fa2f4b9d94"
      },
      "cell_type": "code",
      "source": "from sklearn.decomposition import KernelPCA\n\nlin_pca = KernelPCA(n_components = 2, kernel=\"linear\", fit_inverse_transform=True)\nrbf_pca = KernelPCA(n_components = 2, kernel=\"rbf\", gamma=0.0433, fit_inverse_transform=True)\nsig_pca = KernelPCA(n_components = 2, kernel=\"sigmoid\", gamma=0.001, coef0=1, fit_inverse_transform=True)\n\n\nplt.figure(figsize=(11, 4))\nfor subplot, pca, title in ((131, lin_pca, \"Linear kernel\"), (132, rbf_pca, \"RBF kernel, $\\gamma=0.04$\"), \n                            (133, sig_pca, \"Sigmoid kernel, $\\gamma=10^{-3}, r=1$\")):\n       \n    plt.subplot(subplot)\n    plt.title(title, fontsize=14)\n    plt.scatter(PCA_train_x[:, 0], PCA_train_x[:, 1], c=train_y, cmap=plt.cm.hot)\n    plt.xlabel(\"$z_1$\", fontsize=18)\n    if subplot == 131:\n        plt.ylabel(\"$z_2$\", fontsize=18, rotation=0)\n    plt.grid(True)\n\nplt.show()",
      "execution_count": null,
      "outputs": []
    },
    {
      "metadata": {
        "_uuid": "89c3c862c3330012131d2553b4db496f7f87fcda"
      },
      "cell_type": "markdown",
      "source": "Locally Linear Embedding"
    },
    {
      "metadata": {
        "scrolled": true,
        "trusted": true,
        "_uuid": "67892aaa0c0e81a1f40efeb6872a827bb572c27a"
      },
      "cell_type": "code",
      "source": "from sklearn.manifold import LocallyLinearEmbedding\n\nlle = LocallyLinearEmbedding(n_components=2, n_neighbors=10, random_state=42)\nPCA_X = lle.fit_transform(final_train_x)",
      "execution_count": null,
      "outputs": []
    },
    {
      "metadata": {
        "trusted": true,
        "_uuid": "2b0bb01a7264c82b77acd3ef647e7c7f471fa931"
      },
      "cell_type": "code",
      "source": "plt.title(\"Unrolled swiss roll using LLE\", fontsize=14)\nplt.scatter(PCA_X [:, 0], PCA_X [:, 1], c= train_y, cmap=plt.cm.hot)\nplt.xlabel(\"$z_1$\", fontsize=18)\nplt.ylabel(\"$z_2$\", fontsize=18)\nplt.axis([-0.100, 0.215, -0.043, 0.14])\nplt.grid(True)\nplt.show()",
      "execution_count": null,
      "outputs": []
    },
    {
      "metadata": {
        "_uuid": "36564a8040eb2404ada6fbb5e5efcb6bf5524cc2"
      },
      "cell_type": "markdown",
      "source": "PCA + TSNE"
    },
    {
      "metadata": {
        "trusted": true,
        "_uuid": "4161ba8fbe7dd88394bb1f6f19c946d6ac38bd23"
      },
      "cell_type": "code",
      "source": "pca_tsne = Pipeline([\n    (\"pca\", PCA(n_components=0.95, random_state=42)),\n    (\"tsne\", TSNE(n_components=2, random_state=42))\n])\nX_pca_tsne = pca_tsne.fit_transform(final_train_x)\nplt.title(\"PCA and TSNE\", fontsize=14)\nplt.scatter(X_pca_tsne [:, 0], X_pca_tsne [:, 1], c= train_y, cmap=plt.cm.hot)\nplt.xlabel(\"$z_1$\", fontsize=18)\nplt.ylabel(\"$z_2$\", fontsize=18)\nplt.show()",
      "execution_count": null,
      "outputs": []
    },
    {
      "metadata": {
        "_uuid": "15bdc2f37d1f5de7cf57121823e63f682e8b9986"
      },
      "cell_type": "markdown",
      "source": "None of the above techniques could clearly identify the clusters. So I will drop the idea of dropping any dimensions\n\nNow We Build the Models"
    },
    {
      "metadata": {
        "trusted": true,
        "_uuid": "29a055931103d081607e56b20807fa0329e83d62"
      },
      "cell_type": "code",
      "source": "#Random Forest Regressor.\nforest_class = RandomForestRegressor(random_state = 42)\n\nn_estimators = [10,70,500,700]\nmax_features = [\"auto\",'sqrt','log2']\n\nparam_grid_forest = {'n_estimators' : n_estimators, 'max_features' : max_features}\n\nrand_search_forest = RandomizedSearchCV(forest_class, param_grid_forest, cv = 4, \n                                        scoring='neg_mean_squared_error', n_jobs = -1, verbose=2)\n\nrand_search_forest.fit(final_train_x, train_y)",
      "execution_count": null,
      "outputs": []
    },
    {
      "metadata": {
        "trusted": true,
        "_uuid": "49b283f4908b4f7cc53044c45008ccf9c56c2c01"
      },
      "cell_type": "code",
      "source": "random_estimator = rand_search_forest.best_estimator_ \ny_pred_rf= random_estimator.predict(final_train_x)\nrf_msle = mean_squared_error(train_y, y_pred_rf)\nrf_rmsle = np.sqrt(rf_msle)\nrf_rmsle",
      "execution_count": null,
      "outputs": []
    },
    {
      "metadata": {
        "trusted": true,
        "_uuid": "cca3086bb23068156f5ed57b6d143d4e959abf98"
      },
      "cell_type": "code",
      "source": "GB_Regressor = GradientBoostingRegressor(random_state = 42)\n\nn_estimators = [50,500]\n\nparam_grid_grad_boost_class = {'n_estimators' : n_estimators}\n\nrand_search_grad_boost_class = GridSearchCV(GB_Regressor, param_grid_grad_boost_class, cv = 4, scoring='neg_mean_squared_error', \n                               refit = True, n_jobs = -1, verbose = 2)\n\nrand_search_grad_boost_class.fit(final_train_x, train_y)",
      "execution_count": null,
      "outputs": []
    },
    {
      "metadata": {
        "trusted": true,
        "_uuid": "fd0a7d4d57e0bf9441d134cd3970e8487f0d2f30"
      },
      "cell_type": "code",
      "source": "gb_estimator = rand_search_grad_boost_class.best_estimator_ \ny_pred_gb= gb_estimator.predict(final_train_x)\ngb_msle = mean_squared_error(train_y, y_pred_gb)\ngb_rmsle = np.sqrt(gb_msle)\ngb_rmsle",
      "execution_count": null,
      "outputs": []
    },
    {
      "metadata": {
        "trusted": true,
        "_uuid": "70661eddc2805c24485e1cef51a0959e165d7b48"
      },
      "cell_type": "code",
      "source": "en = ElasticNet()\nen.fit(final_train_x, train_y)",
      "execution_count": null,
      "outputs": []
    },
    {
      "metadata": {
        "trusted": true,
        "_uuid": "0999930cde861a8b8417f32cf23d49a87261c017"
      },
      "cell_type": "code",
      "source": "#Implement an Elastic Net regressor\n\nElasticRegressor = ElasticNet()\n\nalpha = [.0001,.0005,.005,.05,1]\n\nparam_grid_elastic = {'alpha' : alpha}\n\nrand_search_elastic = GridSearchCV(ElasticRegressor, param_grid_elastic, cv = 4, scoring='neg_mean_squared_error', \n                               refit = True, n_jobs = -1, verbose = 2)\n\nrand_search_elastic.fit(final_train_x, train_y)",
      "execution_count": null,
      "outputs": []
    },
    {
      "metadata": {
        "trusted": true,
        "_uuid": "f0ab5f165723ee1129a04819c74aa86cdf07d020"
      },
      "cell_type": "code",
      "source": "elastic_estimator = rand_search_elastic.best_estimator_\ny_pred_elastic = elastic_estimator.predict(final_train_x)\nelastic_msle = mean_squared_error(train_y, y_pred_elastic)\nelastic_rmsle = np.sqrt(elastic_msle)\nelastic_rmsle",
      "execution_count": null,
      "outputs": []
    },
    {
      "metadata": {
        "trusted": true,
        "_uuid": "09d731b2837b19ba6a4d29702f1c1b45167e6b74"
      },
      "cell_type": "code",
      "source": "#Implement a lasso regresso\n\nLassoRegressor = LassoCV()\n\nmax_iter = [50,100,500,1000]\n\nparam_grid_lasso = {'max_iter' : max_iter}\n\nrand_search_lasso = GridSearchCV(LassoRegressor, param_grid_lasso, cv = 4, scoring='neg_mean_squared_error', \n                               refit = True, n_jobs = -1, verbose = 2)\n\nrand_search_lasso.fit(final_train_x, train_y)",
      "execution_count": null,
      "outputs": []
    },
    {
      "metadata": {
        "trusted": true,
        "_uuid": "904695da66331448ec8d8890cace5f2ee367eaaa"
      },
      "cell_type": "code",
      "source": "lasso_estimator = rand_search_lasso.best_estimator_\ny_pred_lasso= lasso_estimator.predict(final_train_x)\nlasso_msle = mean_squared_error(train_y, y_pred_lasso)\nlasso_rmsle = np.sqrt(lasso_msle)\nlasso_rmsle",
      "execution_count": null,
      "outputs": []
    },
    {
      "metadata": {
        "trusted": true,
        "_uuid": "9721537a1ef70846f82c7fc7b0066c903165c369"
      },
      "cell_type": "code",
      "source": "xgb = XGBRegressor(learning_rate =0.01, n_estimators=3460, max_depth=3,\n                     min_child_weight=0 ,gamma=0, subsample=0.7,\n                     colsample_bytree=0.7,objective= 'reg:linear',\n                     nthread=4,scale_pos_weight=1,seed=27, reg_alpha=0.00006)\n\nxgb_fit = xgb.fit(final_train_x, train_y)",
      "execution_count": null,
      "outputs": []
    },
    {
      "metadata": {
        "trusted": true,
        "_uuid": "5f2636f1cbeeddc55189d9bcda41cf137a3b8927"
      },
      "cell_type": "code",
      "source": "y_pred_xgb= xgb_fit.predict(final_train_x)\nxgb_msle = mean_squared_error(train_y, y_pred_xgb)\nxgb_rmsle = np.sqrt(xgb_msle)\nxgb_rmsle",
      "execution_count": null,
      "outputs": []
    },
    {
      "metadata": {
        "trusted": true,
        "_uuid": "97e8f6de7a53246837ddd6c45c77765ad53aa48d"
      },
      "cell_type": "code",
      "source": "lgbm_model = LGBMRegressor(objective='regression',num_leaves=5,\n                              learning_rate=0.05, n_estimators=720,\n                              max_bin = 55, bagging_fraction = 0.8,\n                              bagging_freq = 5, feature_fraction = 0.2319,\n                              feature_fraction_seed=9, bagging_seed=9,\n                              min_data_in_leaf =6, min_sum_hessian_in_leaf = 11)\n\nlgbm_fit = xgb.fit(final_train_x, train_y)",
      "execution_count": null,
      "outputs": []
    },
    {
      "metadata": {
        "trusted": true,
        "_uuid": "76ba54fe71e1b48a2c02f9f0ba055e0671afe1c3"
      },
      "cell_type": "code",
      "source": "y_pred_lgbm= lgbm_fit.predict(final_train_x)\nlgbm_msle = mean_squared_error(train_y, y_pred_lgbm)\nlgbm_rmsle = np.sqrt(lgbm_msle)\nlgbm_rmsle",
      "execution_count": null,
      "outputs": []
    },
    {
      "metadata": {
        "_uuid": "f77d8db1f0d1dbdd98821669dc83ea053a6965bb"
      },
      "cell_type": "markdown",
      "source": "Submit the first submission - with Gradient Boosting as best model"
    },
    {
      "metadata": {
        "trusted": true,
        "_uuid": "f4e7885dec9776630c5c9988c7e72dae079186a2"
      },
      "cell_type": "code",
      "source": "y_pred_gb_test= gb_estimator.predict(final_test_x)\ny_pred_rf_test= random_estimator.predict(final_test_x)\ny_pred_las_test = lasso_estimator.predict(final_test_x)\ny_pred_elas_test = elastic_estimator.predict(final_test_x)\ny_pred_xgb_test = xgb_fit.predict(final_test_x)\ny_pred_lgbm_test = lgbm_fit.predict(final_test_x)",
      "execution_count": null,
      "outputs": []
    },
    {
      "metadata": {
        "_uuid": "33de46782e537b35720a3d050df3d7e0d1236de0"
      },
      "cell_type": "markdown",
      "source": "Taking the averages of best 4 models - Gradient Boosting, Light GBM, XG Boost and Random Forest. This will be improved with Stacking Regressor in the next version."
    },
    {
      "metadata": {
        "trusted": true,
        "_uuid": "11a74925fff602ac6cddb602b39c86d2720c1fd6"
      },
      "cell_type": "code",
      "source": "submission = pd.read_csv(\"../input/sample_submission.csv\")\nsubmission.iloc[:,1] = (np.expm1(y_pred_gb_test) + np.expm1(y_pred_rf_test) + np.expm1(y_pred_xgb_test) + np.expm1(y_pred_lgbm_test))/ 4\nsubmission.to_csv('submission_version1.csv', index = False)",
      "execution_count": null,
      "outputs": []
    }
  ],
  "metadata": {
    "kernelspec": {
      "display_name": "Python 3",
      "language": "python",
      "name": "python3"
    },
    "language_info": {
      "name": "python",
      "version": "3.6.6",
      "mimetype": "text/x-python",
      "codemirror_mode": {
        "name": "ipython",
        "version": 3
      },
      "pygments_lexer": "ipython3",
      "nbconvert_exporter": "python",
      "file_extension": ".py"
    }
  },
  "nbformat": 4,
  "nbformat_minor": 1
}